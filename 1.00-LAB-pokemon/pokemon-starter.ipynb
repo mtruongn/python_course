{
 "cells": [
  {
   "cell_type": "markdown",
   "metadata": {},
   "source": [
    "<img src=\"http://imgur.com/1ZcRyrc.png\" style=\"float: left; margin: 15px; height: 80px\">\n",
    "\n",
    "# Lab 1.01: Data Structures and Python with Pokemon\n",
    "\n",
    "### Building \"Pokemon Stay\"\n",
    "\n",
    "---\n",
    "You are an analyst at a \"scrappy\" online gaming company that specializes in remakes of last year's fads.\n",
    "\n",
    "Your boss, who runs the product development team, is convinced that Pokemon Go's fatal flaw was that you had to actually move around outside. She has design mock-ups for a new game called Pokemon Stay: in this version players still need to move, but just from website to website. Pokemon gyms are now popular online destinations, and catching Pokemon in the \"wild\" simply requires browsing the internet for hours in the comfort of your home.\n",
    "\n",
    "She wants you to program a prototype version of the game, and analyze the planned content to help the team calibrate the design."
   ]
  },
  {
   "cell_type": "code",
   "execution_count": 1,
   "metadata": {},
   "outputs": [],
   "source": [
    "from IPython.display import display"
   ]
  },
  {
   "cell_type": "markdown",
   "metadata": {},
   "source": [
    "<img src=\"http://imgur.com/l5NasQj.png\" style=\"float: left; margin: 25px 15px 0px 0px; height: 25px\">\n",
    "\n",
    "## 1. Defining a player\n",
    "\n",
    "---\n",
    "Each player needs to have a set of charactaristics, stored in variables, such as an id, a username, play data, etc. A great structure to house these variables is a `dictionary`, because the `values` can contain any python datatype includeing `list`, `dict`, `tuple`, `int`, `float`, `bool`, or `str`. \n",
    "\n",
    "The player variables are:\n",
    "\n",
    "    player_id : id code unique to each player (integer)\n",
    "    player_name : entered name of the player (string)\n",
    "    time_played : number of time played the game in minutes (float)\n",
    "    player_pokemon: the player's captured pokemon (dictionary)\n",
    "    gyms_visited: ids of the gyms that a player has visited (list)"
   ]
  },
  {
   "cell_type": "markdown",
   "metadata": {
    "collapsed": true
   },
   "source": [
    "### A) Create a `dict` for a single player.\n",
    "\n",
    "* The `player_id` should be 1\n",
    "* Since the player doesn't have a name yet, you may set the `player_name` equal to `None`\n",
    "* The rest of the fields should be populated properly depending on the datatype."
   ]
  },
  {
   "cell_type": "code",
   "execution_count": 2,
   "metadata": {},
   "outputs": [],
   "source": [
    "# dictionary for a dingle player\n",
    "player_1 = {\n",
    "    'player_id' : 1,\n",
    "    'player_name' : None,\n",
    "    'time_played' : 0.0,\n",
    "    'player_pokemon': {},\n",
    "    'gyms_visited': [],\n",
    "}"
   ]
  },
  {
   "cell_type": "markdown",
   "metadata": {},
   "source": [
    "### B) Create a `dict` to house your dataset of players.\n",
    "\n",
    "* Because only `player_1` exists, there should only be one `key:value` pair. \n",
    "* The `keys` of this `dict` should be the `player_id`, and the `values` should be the dictionaries with single-player info, including the `player_id` (slightly redundant).\n",
    "* Use the `display` function imported above to display `poke_players`."
   ]
  },
  {
   "cell_type": "code",
   "execution_count": 3,
   "metadata": {},
   "outputs": [
    {
     "data": {
      "text/plain": [
       "{1: {'player_id': 1,\n",
       "  'player_name': None,\n",
       "  'time_played': 0.0,\n",
       "  'player_pokemon': {},\n",
       "  'gyms_visited': []}}"
      ]
     },
     "metadata": {},
     "output_type": "display_data"
    }
   ],
   "source": [
    "# putting an already made player into the poke players dict\n",
    "# this creates a dictionary(player_1) nested in another dictionary (poke_players)\n",
    "# we utilized a value in the player_1 dictionary to create its own key for the poke_players dict\n",
    "poke_players = {\n",
    "    player_1['player_id']:player_1\n",
    "}\n",
    "\n",
    "display(poke_players)"
   ]
  },
  {
   "cell_type": "markdown",
   "metadata": {},
   "source": [
    "### C) Update player 1's info with your own.\n",
    "\n",
    "* By indexing your `poke_players` dictionary, update the `player_name` field to your own name.\n",
    "* `display` your `poke_players` dict to check your work."
   ]
  },
  {
   "cell_type": "code",
   "execution_count": 4,
   "metadata": {},
   "outputs": [
    {
     "data": {
      "text/plain": [
       "{1: {'player_id': 1,\n",
       "  'player_name': 'Mike',\n",
       "  'time_played': 0.0,\n",
       "  'player_pokemon': {},\n",
       "  'gyms_visited': []}}"
      ]
     },
     "execution_count": 4,
     "metadata": {},
     "output_type": "execute_result"
    }
   ],
   "source": [
    "# accessing a nested dictionary requires us to go layer by layer\n",
    "# `poke_players[1] == player_1`\n",
    "# `player_1['player_name] = 'Mike`\n",
    "# if `poke_players[1]` IS `player_1` we can substitute to get `poke_players[1]['player_name'] = 'Mike'`\n",
    "\n",
    "poke_players[1]['player_name'] = 'Mike'\n",
    "poke_players"
   ]
  },
  {
   "cell_type": "markdown",
   "metadata": {},
   "source": [
    "### D) Define a function that adds a player to `poke_players`.\n",
    "\n",
    "Your functions should...\n",
    "\n",
    "* Take arguments for `players_dict`, `player_id`, and `player_name`.\n",
    "* Create a player with the above values and populate the `gyms_visited`, `player_pokemon`, and `time_played` accordingly.\n",
    "* Returns the name of the player added.\n",
    "* Add a second player to the `players` dictionary. The id should be 2, but the name is up to you!\n",
    "* Display your `poke_players` to check your work."
   ]
  },
  {
   "cell_type": "code",
   "execution_count": 5,
   "metadata": {},
   "outputs": [],
   "source": [
    "# function takes 3 arguments: the players_dict where the new player will be added\n",
    "# `player_id` and `player_name` are used create the new_player\n",
    "def add_player(players_dict, player_id, player_name):\n",
    "    new_player = {\n",
    "        'player_id': player_id,\n",
    "        'player_name': player_name,\n",
    "        'player_pokemon': {}, # player_pokemon, gyms_visited and time_played have default values\n",
    "        'gyms_visited': [],\n",
    "        'time_played': 0.0\n",
    "    }\n",
    "    players_dict[new_player['player_id']] = new_player # once again using a value in the existing dict to create said \n",
    "                                            # dicts key in the players_dict\n",
    "    print(\"{} added!\".format(new_player['player_name']))"
   ]
  },
  {
   "cell_type": "code",
   "execution_count": 6,
   "metadata": {},
   "outputs": [
    {
     "name": "stdout",
     "output_type": "stream",
     "text": [
      "Joshua added!\n"
     ]
    }
   ],
   "source": [
    "add_player(poke_players, 2, 'Joshua')"
   ]
  },
  {
   "cell_type": "code",
   "execution_count": 7,
   "metadata": {},
   "outputs": [
    {
     "data": {
      "text/plain": [
       "{1: {'player_id': 1,\n",
       "  'player_name': 'Mike',\n",
       "  'time_played': 0.0,\n",
       "  'player_pokemon': {},\n",
       "  'gyms_visited': []},\n",
       " 2: {'player_id': 2,\n",
       "  'player_name': 'Joshua',\n",
       "  'player_pokemon': {},\n",
       "  'gyms_visited': [],\n",
       "  'time_played': 0.0}}"
      ]
     },
     "execution_count": 7,
     "metadata": {},
     "output_type": "execute_result"
    }
   ],
   "source": [
    "poke_players"
   ]
  }
 ],
 "metadata": {
  "anaconda-cloud": {},
  "kernelspec": {
   "display_name": "Python 3",
   "language": "python",
   "name": "python3"
  },
  "language_info": {
   "codemirror_mode": {
    "name": "ipython",
    "version": 3
   },
   "file_extension": ".py",
   "mimetype": "text/x-python",
   "name": "python",
   "nbconvert_exporter": "python",
   "pygments_lexer": "ipython3",
   "version": "3.7.3"
  }
 },
 "nbformat": 4,
 "nbformat_minor": 1
}
