{
 "cells": [
  {
   "cell_type": "markdown",
   "metadata": {},
   "source": [
    "# Introduction: for and while loops\n",
    "---\n",
    "The **for** statement is used to **iterate** over the elements of a sequence. It's \n",
    "used when you have a piece of code which you want to repeat n number of times. \n",
    "You can use any object (such as strings, arrays, lists, tuples, dict and so on) \n",
    "in a for loop in Python.\n",
    "\n",
    "The **while** loop tells the computer to do something as long as a condition is met. \n",
    "A while loop consists of a block of code and a condition. The condition \n",
    "is evaluated, and if the condition is true, the code within the\n",
    "block is executed. This repeats until the condition becomes false. \n",
    "\n",
    "[for and while loops](http://www.pythonforbeginners.com/control-flow-2/python-for-and-while-loops)\n",
    "[for and while loops](http://www.cyberciti.biz/faq/python-for-loop-examples-statements/)"
   ]
  },
  {
   "cell_type": "markdown",
   "metadata": {},
   "source": [
    "# While Loops\n",
    "---\n",
    "```python\n",
    "truth_test = True\n",
    "while truth_test:\n",
    "    print('hello')\n",
    "```\n",
    "This is an example of a **while** loop. While loops continue to run until the expression after `while` evaluates to `False`. In the example above, the loop will continue to run ad infinitum because we never change `truth_test` be `False` in our block.\n",
    "\n",
    "Now it's time for some practice. We'll create a `while` loop in conjunction with the `input` function to create the following program:\n",
    "![](http://snag.gy/WsiZu.jpg)"
   ]
  },
  {
   "cell_type": "code",
   "execution_count": 1,
   "metadata": {},
   "outputs": [
    {
     "name": "stdout",
     "output_type": "stream",
     "text": [
      "What is your name? Max\n"
     ]
    }
   ],
   "source": [
    "name = input(\"What is your name? \")"
   ]
  },
  {
   "cell_type": "code",
   "execution_count": 2,
   "metadata": {},
   "outputs": [
    {
     "data": {
      "text/plain": [
       "'Max'"
      ]
     },
     "execution_count": 2,
     "metadata": {},
     "output_type": "execute_result"
    }
   ],
   "source": [
    "name"
   ]
  },
  {
   "cell_type": "code",
   "execution_count": 121,
   "metadata": {},
   "outputs": [
    {
     "name": "stdout",
     "output_type": "stream",
     "text": [
      "0\n"
     ]
    }
   ],
   "source": [
    "import random\n",
    "\n",
    "def should_i_check_facebook():\n",
    "    if random.randint(1, 100) <= 10:\n",
    "        print(1)\n",
    "    else:\n",
    "        print(0)\n",
    "\n",
    "facebook = should_i_check_facebook()\n",
    "facebook"
   ]
  },
  {
   "cell_type": "code",
   "execution_count": 129,
   "metadata": {},
   "outputs": [],
   "source": [
    "facebook"
   ]
  },
  {
   "cell_type": "code",
   "execution_count": 101,
   "metadata": {},
   "outputs": [
    {
     "name": "stdout",
     "output_type": "stream",
     "text": [
      "learning...\n",
      "learning...\n",
      "learning...\n",
      "learning...\n",
      "learning...\n",
      "learning...\n",
      "learning...\n",
      "learning...\n",
      "learning...\n",
      "Facebook Time\n"
     ]
    }
   ],
   "source": [
    "max_is_still_interesting = True\n",
    "\n",
    "while max_is_still_interesting == True:\n",
    "    print('learning...')\n",
    "    if should_i_check_facebook() == 1:\n",
    "        print('Facebook Time')\n",
    "        break"
   ]
  },
  {
   "cell_type": "code",
   "execution_count": null,
   "metadata": {},
   "outputs": [],
   "source": [
    "truth_test = True\n",
    "while truth_test:\n",
    "    print('hello')\n",
    "    truth_test = False"
   ]
  },
  {
   "cell_type": "markdown",
   "metadata": {},
   "source": [
    "Remember, a while loop runs until the expression is `False`. The problem is, sometimes they don't stop. To avoid this, here are some rules to follow:\n",
    "\n",
    "1. Make sure that you use while loops sparingly. Usually a for loop is better.\n",
    "2. Review your while statements and make sure that the boolean test will become False at some point.\n",
    "3. When in doubt, print out your test variable at the top and bottom of the while-loop to see what it's doing.\n"
   ]
  },
  {
   "cell_type": "markdown",
   "metadata": {},
   "source": [
    "# For Loops\n",
    "---\n",
    "```python\n",
    "for count in [1, 2, 3]: \n",
    "    print(count) \n",
    "    print('Yes' * count) \n",
    "```\n",
    "\n",
    "This is a **for** loop. It has the heading starting with **for**, followed by a \n",
    "variable name (count in this case), the word **in**, some sequence, and a final colon. \n",
    "As with function definitions and other heading lines, the **colon** at the end of \n",
    "the line indicates that a consistently **indented block** of statements follows \n",
    "to complete the for loop."
   ]
  },
  {
   "cell_type": "code",
   "execution_count": 136,
   "metadata": {},
   "outputs": [
    {
     "name": "stdout",
     "output_type": "stream",
     "text": [
      "my <class 'str'>\n",
      "list <class 'str'>\n",
      "of <class 'str'>\n",
      "strings <class 'str'>\n"
     ]
    }
   ],
   "source": [
    "for i in ['my', 'list', 'of', 'strings']:\n",
    "    print(i, type(i))"
   ]
  },
  {
   "cell_type": "code",
   "execution_count": null,
   "metadata": {},
   "outputs": [],
   "source": [
    "'Yes' * 2"
   ]
  },
  {
   "cell_type": "code",
   "execution_count": null,
   "metadata": {},
   "outputs": [],
   "source": [
    "for i in [1, 2, 3]: \n",
    "    print(i) \n",
    "    print('Yes' * i)\n",
    "    print('')"
   ]
  },
  {
   "cell_type": "code",
   "execution_count": null,
   "metadata": {},
   "outputs": [],
   "source": [
    "for _ in range(10):\n",
    "    print(_)"
   ]
  },
  {
   "cell_type": "code",
   "execution_count": null,
   "metadata": {},
   "outputs": [],
   "source": [
    "3 + 5"
   ]
  },
  {
   "cell_type": "code",
   "execution_count": null,
   "metadata": {},
   "outputs": [],
   "source": [
    "_"
   ]
  },
  {
   "cell_type": "code",
   "execution_count": null,
   "metadata": {},
   "outputs": [],
   "source": [
    "10 + 11"
   ]
  },
  {
   "cell_type": "code",
   "execution_count": null,
   "metadata": {},
   "outputs": [],
   "source": [
    "_"
   ]
  },
  {
   "cell_type": "markdown",
   "metadata": {},
   "source": [
    "Let's try a simple repeat **for** loop. A repeat loop is for when you just want to repeat the exact same \n",
    "thing a specific number of times. In that case only the length of the sequence, \n",
    "not the individual elements are important. For this, we can use use the `range` function to create our sequence. \n",
    "\n",
    "In the block below, use `range` to create a for loop that prints **Hello** 100 times."
   ]
  },
  {
   "cell_type": "code",
   "execution_count": null,
   "metadata": {},
   "outputs": [],
   "source": [
    "for _ in range(100):\n",
    "    print('hello')"
   ]
  },
  {
   "cell_type": "markdown",
   "metadata": {},
   "source": [
    "We've mostly played it safe with list sequences.  Let's try looping through the letters in a word:\n",
    "\n",
    "```python\n",
    "word = \"computer\"\n",
    "```\n",
    "\n",
    "How do we do this?"
   ]
  },
  {
   "cell_type": "code",
   "execution_count": 139,
   "metadata": {},
   "outputs": [
    {
     "name": "stdout",
     "output_type": "stream",
     "text": [
      "c\n",
      "huzzah\n",
      "m\n",
      "p\n",
      "huzzah\n",
      "t\n",
      "huzzah\n",
      "r\n"
     ]
    }
   ],
   "source": [
    "word = \"computer\"\n",
    "for letter in word:\n",
    "    if letter in 'aeiou':\n",
    "        print('huzzah')\n",
    "    else:\n",
    "        print(letter)"
   ]
  },
  {
   "cell_type": "code",
   "execution_count": 141,
   "metadata": {},
   "outputs": [
    {
     "name": "stdout",
     "output_type": "stream",
     "text": [
      "t\n",
      "h\n",
      "i\n",
      "s\n",
      " \n",
      "i\n",
      "s\n",
      " \n",
      "A\n",
      " \n",
      "s\n",
      "i\n",
      "l\n",
      "l\n",
      "y\n",
      " \n",
      "l\n",
      "i\n",
      "t\n",
      "t\n",
      "l\n",
      "e\n",
      " \n",
      "s\n",
      "e\n",
      "n\n",
      "t\n",
      "e\n",
      "n\n",
      "c\n",
      "e\n",
      " \n",
      "t\n",
      "h\n",
      "A\n",
      "t\n",
      " \n",
      "d\n",
      "o\n",
      "e\n",
      "s\n",
      "n\n",
      "'\n",
      "t\n",
      " \n",
      "M\n",
      "A\n",
      "k\n",
      "e\n",
      " \n",
      "M\n",
      "u\n",
      "c\n",
      "h\n",
      " \n",
      "s\n",
      "e\n",
      "n\n",
      "s\n",
      "e\n"
     ]
    }
   ],
   "source": [
    "sentence = 'this is a silly little sentence that doesn\\'t make much sense'\n",
    "\n",
    "def capitalize_if_max(letter):\n",
    "    if letter in 'max':\n",
    "        print(letter.upper())\n",
    "    else:\n",
    "        print(letter)\n",
    "    \n",
    "for letter in sentence:\n",
    "    capitalize_if_max(letter)\n",
    "\n",
    "    \n",
    "# for letter in sentence:\n",
    "#     if letter in 'max':\n",
    "#         print(letter.upper())\n",
    "#     else:\n",
    "#         print(letter)\n"
   ]
  },
  {
   "cell_type": "code",
   "execution_count": null,
   "metadata": {},
   "outputs": [],
   "source": [
    "dna = 'AGCTCGTCT'\n",
    "rna = []\n",
    "\n",
    "for nucleotide in dna:\n",
    "    if nucleotide == 'T':\n",
    "        rna.append('U')\n",
    "    else:\n",
    "        rna.append(nucleotide)\n",
    "rna"
   ]
  },
  {
   "cell_type": "markdown",
   "metadata": {},
   "source": [
    "## Looping through dictionaries\n",
    "\n",
    "You can also loop through the key/value pairs in a dictionary. \n",
    "\n",
    "To see this in action, create a dictionary called `user` with the keys `'first_name'` and `'last_name'`"
   ]
  },
  {
   "cell_type": "code",
   "execution_count": 142,
   "metadata": {},
   "outputs": [],
   "source": [
    "food = {\n",
    "    'cultures': ['megan', 'blair'],\n",
    "    'home': ['zekry', 'sara', 'cody'],\n",
    "    'pizza': ['mousa'],\n",
    "    'greek': ['max'],\n",
    "    'freshii': ['vishal'],\n",
    "    'thai': ['lucas']\n",
    "}"
   ]
  },
  {
   "cell_type": "code",
   "execution_count": 147,
   "metadata": {},
   "outputs": [
    {
     "data": {
      "text/plain": [
       "[['megan', 'blair'],\n",
       " ['zekry', 'sara', 'cody'],\n",
       " ['mousa'],\n",
       " ['max'],\n",
       " ['vishal'],\n",
       " ['lucas']]"
      ]
     },
     "execution_count": 147,
     "metadata": {},
     "output_type": "execute_result"
    }
   ],
   "source": [
    "list(food.values())"
   ]
  },
  {
   "cell_type": "code",
   "execution_count": 151,
   "metadata": {},
   "outputs": [
    {
     "name": "stdout",
     "output_type": "stream",
     "text": [
      "('cultures', ['megan', 'blair'])\n",
      "\n",
      "\n",
      "('home', ['zekry', 'sara', 'cody'])\n",
      "\n",
      "\n",
      "('pizza', ['mousa'])\n",
      "\n",
      "\n",
      "('greek', ['max'])\n",
      "\n",
      "\n",
      "('freshii', ['vishal'])\n",
      "\n",
      "\n",
      "('thai', ['lucas'])\n",
      "\n",
      "\n"
     ]
    }
   ],
   "source": [
    "for item in list(food.items()):\n",
    "    print(item)\n",
    "    print('\\n')"
   ]
  },
  {
   "cell_type": "code",
   "execution_count": 159,
   "metadata": {},
   "outputs": [
    {
     "data": {
      "text/plain": [
       "{'male': 1, 'female': 2}"
      ]
     },
     "execution_count": 159,
     "metadata": {},
     "output_type": "execute_result"
    }
   ],
   "source": [
    "gender = {'male': 1, 'female': 2}\n",
    "gender"
   ]
  },
  {
   "cell_type": "code",
   "execution_count": 160,
   "metadata": {},
   "outputs": [
    {
     "data": {
      "text/plain": [
       "{'male': 1, 'female': 2}"
      ]
     },
     "execution_count": 160,
     "metadata": {},
     "output_type": "execute_result"
    }
   ],
   "source": [
    "gender"
   ]
  },
  {
   "cell_type": "code",
   "execution_count": 162,
   "metadata": {},
   "outputs": [
    {
     "data": {
      "text/plain": [
       "[('male', 1), ('female', 2)]"
      ]
     },
     "execution_count": 162,
     "metadata": {},
     "output_type": "execute_result"
    }
   ],
   "source": [
    "list(gender.items())"
   ]
  },
  {
   "cell_type": "code",
   "execution_count": 157,
   "metadata": {},
   "outputs": [],
   "source": [
    "inverse_gender = {}\n",
    "for k, v in gender.items():\n",
    "    inverse_gender[v] = k"
   ]
  },
  {
   "cell_type": "code",
   "execution_count": 168,
   "metadata": {},
   "outputs": [],
   "source": [
    "inverse_gender['🍔'] = '3'"
   ]
  },
  {
   "cell_type": "code",
   "execution_count": 169,
   "metadata": {},
   "outputs": [
    {
     "data": {
      "text/plain": [
       "{1: 'male', 2: 'female', '❌': 'x', '🍔': '3'}"
      ]
     },
     "execution_count": 169,
     "metadata": {},
     "output_type": "execute_result"
    }
   ],
   "source": [
    "inverse_gender"
   ]
  },
  {
   "cell_type": "code",
   "execution_count": 163,
   "metadata": {},
   "outputs": [
    {
     "name": "stdout",
     "output_type": "stream",
     "text": [
      "male\n",
      "1\n",
      "female\n",
      "2\n"
     ]
    }
   ],
   "source": [
    "recreate_gender = {}\n",
    "for k, v in gender.items():\n",
    "    print(k)\n",
    "    print(v)\n",
    "    recreate_gender[k] = v"
   ]
  },
  {
   "cell_type": "code",
   "execution_count": 164,
   "metadata": {},
   "outputs": [
    {
     "data": {
      "text/plain": [
       "{'male': 1, 'female': 2}"
      ]
     },
     "execution_count": 164,
     "metadata": {},
     "output_type": "execute_result"
    }
   ],
   "source": [
    "recreate_gender"
   ]
  },
  {
   "cell_type": "code",
   "execution_count": 158,
   "metadata": {},
   "outputs": [
    {
     "data": {
      "text/plain": [
       "{1: 'male', 2: 'female'}"
      ]
     },
     "execution_count": 158,
     "metadata": {},
     "output_type": "execute_result"
    }
   ],
   "source": [
    "inverse_gender"
   ]
  },
  {
   "cell_type": "code",
   "execution_count": 153,
   "metadata": {},
   "outputs": [
    {
     "name": "stdout",
     "output_type": "stream",
     "text": [
      "['megan', 'blair'] ate cultures\n",
      "['zekry', 'sara', 'cody'] ate home\n",
      "['mousa'] ate pizza\n",
      "['max'] ate greek\n",
      "['vishal'] need to reconsider their life choices\n",
      "['lucas'] ate thai\n"
     ]
    }
   ],
   "source": [
    "for k, v in food.items():\n",
    "    if k == 'freshii':\n",
    "        print(v, 'need to reconsider their life choices')\n",
    "    else:\n",
    "        print(v, 'ate', k)"
   ]
  },
  {
   "cell_type": "code",
   "execution_count": null,
   "metadata": {},
   "outputs": [],
   "source": [
    "places  = list(food.keys())"
   ]
  },
  {
   "cell_type": "code",
   "execution_count": null,
   "metadata": {},
   "outputs": [],
   "source": [
    "names = list(food.values())"
   ]
  },
  {
   "cell_type": "code",
   "execution_count": null,
   "metadata": {},
   "outputs": [],
   "source": [
    "place, name = ('k&k', ['yue'])\n",
    "print(place)\n",
    "print(name)"
   ]
  },
  {
   "cell_type": "code",
   "execution_count": null,
   "metadata": {},
   "outputs": [],
   "source": [
    "list(food.items())"
   ]
  },
  {
   "cell_type": "code",
   "execution_count": null,
   "metadata": {},
   "outputs": [],
   "source": [
    "for place, place_type in [('a&w', 'burger'), ('k&k', 'vege'), ('home', 'IDK')]:\n",
    "    print(place)\n",
    "    print('\\n')\n",
    "    print(place_type)\n",
    "    print('\\n')"
   ]
  },
  {
   "cell_type": "code",
   "execution_count": null,
   "metadata": {},
   "outputs": [],
   "source": [
    "('a&w', 'burger')"
   ]
  },
  {
   "cell_type": "code",
   "execution_count": null,
   "metadata": {},
   "outputs": [],
   "source": [
    "names = []\n",
    "places = []\n",
    "\n",
    "for key, value in food.items():\n",
    "    places.append(key)\n",
    "    names.extend(value)"
   ]
  },
  {
   "cell_type": "code",
   "execution_count": null,
   "metadata": {},
   "outputs": [],
   "source": [
    "'manjeet' in names"
   ]
  },
  {
   "cell_type": "markdown",
   "metadata": {},
   "source": [
    "Dictionaries have a method called `items()` specifically for looping. We'll use that in conjunction with a for loop to iterate over the key/value pairs in our `user` dictionary."
   ]
  },
  {
   "cell_type": "markdown",
   "metadata": {},
   "source": [
    "# Mapping\n",
    "---\n",
    "Mapping is when you have a list, but you need to make changes to the items in that list. In python, we'll use list comprehension to do this.\n",
    "\n",
    "To illustrate mapping, let's create an array of strings for each person in the classroom: 'student' and 'teacher'. Your code should look something like this:\n",
    "\n",
    "```python\n",
    "classroom = ['student', 'student', 'teacher', 'student', ...]\n",
    "```"
   ]
  },
  {
   "cell_type": "code",
   "execution_count": 175,
   "metadata": {},
   "outputs": [],
   "source": [
    "tv = [\n",
    "    'sopranos',\n",
    "    'please like me',\n",
    "    'how to train your dragon',\n",
    "    'the office',\n",
    "    'futurama',\n",
    "    'money heist',\n",
    "    'the wire',\n",
    "    'supernatural',\n",
    "    'archer',\n",
    "    'the simpsons'\n",
    "]\n",
    "\n",
    "the_tv = []\n",
    "for show in tv:\n",
    "    if show.startswith('the'):\n",
    "        the_tv.append(show)"
   ]
  },
  {
   "cell_type": "code",
   "execution_count": 176,
   "metadata": {},
   "outputs": [
    {
     "data": {
      "text/plain": [
       "['the office', 'the wire', 'the simpsons']"
      ]
     },
     "execution_count": 176,
     "metadata": {},
     "output_type": "execute_result"
    }
   ],
   "source": [
    "the_tv"
   ]
  },
  {
   "cell_type": "code",
   "execution_count": 203,
   "metadata": {},
   "outputs": [
    {
     "data": {
      "text/plain": [
       "'The'"
      ]
     },
     "execution_count": 203,
     "metadata": {},
     "output_type": "execute_result"
    }
   ],
   "source": [
    "'the'[0].upper() + 'the'[1:]"
   ]
  },
  {
   "cell_type": "code",
   "execution_count": 212,
   "metadata": {},
   "outputs": [],
   "source": [
    "show = 'how to train your dragon'\n",
    "\n",
    "def title_case(show):\n",
    "    show_split = show.split(' ')\n",
    "    new_list = []\n",
    "    for word in show_split:\n",
    "        new_list.append(word[0].upper() + word[1:])\n",
    "    return ' '.join(new_list)"
   ]
  },
  {
   "cell_type": "code",
   "execution_count": 213,
   "metadata": {},
   "outputs": [
    {
     "data": {
      "text/plain": [
       "'How To Train Your Dragon'"
      ]
     },
     "execution_count": 213,
     "metadata": {},
     "output_type": "execute_result"
    }
   ],
   "source": [
    "title_case(show)"
   ]
  },
  {
   "cell_type": "code",
   "execution_count": null,
   "metadata": {},
   "outputs": [],
   "source": []
  },
  {
   "cell_type": "code",
   "execution_count": 214,
   "metadata": {},
   "outputs": [
    {
     "data": {
      "text/plain": [
       "['Sopranos',\n",
       " 'Please Like Me',\n",
       " 'How To Train Your Dragon',\n",
       " 'The Office',\n",
       " 'Futurama',\n",
       " 'Money Heist',\n",
       " 'The Wire',\n",
       " 'Supernatural',\n",
       " 'Archer',\n",
       " 'The Simpsons']"
      ]
     },
     "execution_count": 214,
     "metadata": {},
     "output_type": "execute_result"
    }
   ],
   "source": [
    "title_case_shows = []\n",
    "for show in tv:\n",
    "    title_case_shows.append(title_case(show))\n",
    "title_case_shows"
   ]
  },
  {
   "cell_type": "code",
   "execution_count": 220,
   "metadata": {},
   "outputs": [
    {
     "data": {
      "text/plain": [
       "['The Office', 'The Wire', 'The Simpsons']"
      ]
     },
     "execution_count": 220,
     "metadata": {},
     "output_type": "execute_result"
    }
   ],
   "source": [
    "[title_case(show) for show in tv]"
   ]
  },
  {
   "cell_type": "code",
   "execution_count": null,
   "metadata": {},
   "outputs": [],
   "source": []
  },
  {
   "cell_type": "code",
   "execution_count": 174,
   "metadata": {},
   "outputs": [
    {
     "data": {
      "text/plain": [
       "True"
      ]
     },
     "execution_count": 174,
     "metadata": {},
     "output_type": "execute_result"
    }
   ],
   "source": [
    "show = 'the simpsons'\n",
    "\n"
   ]
  },
  {
   "cell_type": "code",
   "execution_count": null,
   "metadata": {},
   "outputs": [],
   "source": [
    "tv_show = 'this is us'"
   ]
  },
  {
   "cell_type": "code",
   "execution_count": null,
   "metadata": {},
   "outputs": [],
   "source": [
    "def starts_with_the(tv_show):\n",
    "    return tv_show.startswith('the')"
   ]
  },
  {
   "cell_type": "code",
   "execution_count": null,
   "metadata": {},
   "outputs": [],
   "source": [
    "the = []\n",
    "for show in tv:\n",
    "    if starts_with_the(show):\n",
    "        the.append(show)\n",
    "the"
   ]
  },
  {
   "cell_type": "code",
   "execution_count": null,
   "metadata": {},
   "outputs": [],
   "source": [
    "[show for show in tv if starts_with_the(show)]"
   ]
  },
  {
   "cell_type": "code",
   "execution_count": null,
   "metadata": {},
   "outputs": [],
   "source": [
    "numbers = [1, 2, 3, 4]"
   ]
  },
  {
   "cell_type": "code",
   "execution_count": null,
   "metadata": {},
   "outputs": [],
   "source": [
    "even = []\n",
    "for number in numbers:\n",
    "    if number % 2 == 0:\n",
    "        print(number)\n",
    "\n",
    "even"
   ]
  },
  {
   "cell_type": "code",
   "execution_count": null,
   "metadata": {},
   "outputs": [],
   "source": [
    "[number * 3 for number in numbers]"
   ]
  },
  {
   "cell_type": "markdown",
   "metadata": {},
   "source": [
    "In machine learning, we'll need to convert strings into numbers. Let's create a function that accepts a string. Return 1 if the string is 'student' and 0 if the string is 'teacher'."
   ]
  },
  {
   "cell_type": "code",
   "execution_count": null,
   "metadata": {},
   "outputs": [],
   "source": [
    "def is_student(person):\n",
    "    if person == 'student':\n",
    "        return 1\n",
    "    else:\n",
    "        return 0"
   ]
  },
  {
   "cell_type": "code",
   "execution_count": null,
   "metadata": {},
   "outputs": [],
   "source": [
    "is_student('teacher')"
   ]
  },
  {
   "cell_type": "code",
   "execution_count": null,
   "metadata": {},
   "outputs": [],
   "source": [
    "classroom = ['student', 'student', 'teacher']"
   ]
  },
  {
   "cell_type": "code",
   "execution_count": null,
   "metadata": {},
   "outputs": [],
   "source": [
    "new_classroom = [is_student(student) for student in classroom]"
   ]
  },
  {
   "cell_type": "markdown",
   "metadata": {},
   "source": [
    "Now let's use list comprehension along with our function to convert our array of strings into an array of 1's and 0's."
   ]
  },
  {
   "cell_type": "code",
   "execution_count": null,
   "metadata": {},
   "outputs": [],
   "source": [
    "new_classroom"
   ]
  },
  {
   "cell_type": "markdown",
   "metadata": {},
   "source": [
    "## Mapping practice: odds and evens\n",
    "\n",
    "1. Create an array of integers, 1 through 100\n",
    "2. Create a function that accepts a single integer as a parameter and returns `'odd'` or `'even'`, depending on the input.\n",
    "3. Use list comprehension to map through your array of integers and retun an array of odd/even strings"
   ]
  },
  {
   "cell_type": "code",
   "execution_count": null,
   "metadata": {},
   "outputs": [],
   "source": [
    "# create an array of integers: 1-100\n",
    "numbers = list(range(1, 101))"
   ]
  },
  {
   "cell_type": "code",
   "execution_count": null,
   "metadata": {},
   "outputs": [],
   "source": [
    "# create a function that accepts a single integer, and returns the string 'odd' or 'even', depending on the integer\n",
    "def odd_or_even(number):\n",
    "    if number % 2 == 0:\n",
    "        return 'even'\n",
    "    else:\n",
    "        return 'odd'"
   ]
  },
  {
   "cell_type": "code",
   "execution_count": null,
   "metadata": {},
   "outputs": [],
   "source": [
    "odd_or_even(3)"
   ]
  },
  {
   "cell_type": "code",
   "execution_count": null,
   "metadata": {},
   "outputs": [],
   "source": [
    "# use list comprehension to convert your array of integers to an array of odd/even strings\n",
    "o_e = [odd_or_even(num) for num in numbers]"
   ]
  },
  {
   "cell_type": "markdown",
   "metadata": {},
   "source": [
    "## Mapping practice: square the numbers\n",
    "\n",
    "1. Create an array of integers, 1 through 10\n",
    "2. Use list comprehension to create an array that squares each number in the original array"
   ]
  },
  {
   "cell_type": "code",
   "execution_count": null,
   "metadata": {},
   "outputs": [],
   "source": [
    "# create an array of integers: 1-10\n",
    "numbers = list(range(1, 11))"
   ]
  },
  {
   "cell_type": "code",
   "execution_count": null,
   "metadata": {},
   "outputs": [],
   "source": [
    "# map through the array, squaring each number in the original array. Output should look like below.\n",
    "[num ** 2 for num in numbers]"
   ]
  },
  {
   "cell_type": "markdown",
   "metadata": {},
   "source": [
    "## Mapping practice: lowercase names\n",
    "\n",
    "1. Create a list of everyone's names in the classroom\n",
    "2. Use list comprehension to return an array of lowercase names"
   ]
  },
  {
   "cell_type": "code",
   "execution_count": null,
   "metadata": {},
   "outputs": [],
   "source": [
    "[show.capitalize() for show in tv]"
   ]
  },
  {
   "cell_type": "code",
   "execution_count": null,
   "metadata": {},
   "outputs": [],
   "source": [
    "show = 'The big bang theory'\n",
    "\n",
    "def title_case(show):\n",
    "    show_parts = show.split(' ')\n",
    "    show = ''\n",
    "    for part in show_parts:\n",
    "        show += part.capitalize()\n",
    "        show += ' '\n",
    "    return show.strip()\n",
    "    \n",
    "title_case('The big bang theory')"
   ]
  },
  {
   "cell_type": "code",
   "execution_count": null,
   "metadata": {},
   "outputs": [],
   "source": [
    "[title_case(show) for show in tv if starts_with_the(show)]"
   ]
  },
  {
   "cell_type": "code",
   "execution_count": null,
   "metadata": {},
   "outputs": [],
   "source": [
    "titles = []\n",
    "for show in tv:\n",
    "    if starts_with_the(show):\n",
    "        titles.append(title_case(show))\n",
    "titles"
   ]
  },
  {
   "cell_type": "code",
   "execution_count": null,
   "metadata": {},
   "outputs": [],
   "source": [
    "instuctors = ['Max', 'Albert', 'Alyx', 'Shawn', 'Dan']\n",
    "\n",
    "[person.lower() for person in instuctors]"
   ]
  },
  {
   "cell_type": "markdown",
   "metadata": {},
   "source": [
    "# Filtering\n",
    "---\n",
    "\n",
    "If you have a list of items, but only need a subset of items that meet a certain condition, that's called filtering. \n",
    "\n",
    "To illustrate this, let's create a list of dictionaries, one for each person in the classroom. It should look like the following:\n",
    "\n",
    "```python\n",
    "classroom = [\n",
    "    {'name': 'Teacher McTeacherson', 'role': 'teacher'},\n",
    "    {'name': 'Student McStudentson', 'role': 'student'},\n",
    "    ...\n",
    "]\n",
    "```"
   ]
  },
  {
   "cell_type": "code",
   "execution_count": 221,
   "metadata": {},
   "outputs": [],
   "source": [
    "classroom = [\n",
    "    {'name': 'Max', 'role': 'teacher'},\n",
    "    {'name': 'Vishal', 'role': 'student'},\n",
    "    {'name': 'Cody', 'role': 'student'},\n",
    "    {'name': 'Lucas', 'role': 'student'},\n",
    "    {'name': 'Megan', 'role': 'student'},\n",
    "    {'name': 'Zekry', 'role': 'student'},\n",
    "    {'name': 'Sara', 'role': 'student'},\n",
    "    {'name': 'Mousa', 'role': 'student'},\n",
    "    {'name': 'Blair', 'role': 'student'}\n",
    "]"
   ]
  },
  {
   "cell_type": "code",
   "execution_count": 223,
   "metadata": {},
   "outputs": [
    {
     "name": "stdout",
     "output_type": "stream",
     "text": [
      "Max\n",
      "Vishal\n",
      "Cody\n",
      "Lucas\n",
      "Megan\n",
      "Zekry\n",
      "Sara\n",
      "Mousa\n",
      "Blair\n"
     ]
    }
   ],
   "source": [
    "for person in classroom:\n",
    "    print(person['name'])"
   ]
  },
  {
   "cell_type": "code",
   "execution_count": 226,
   "metadata": {},
   "outputs": [
    {
     "data": {
      "text/plain": [
       "['Vishal', 'Cody', 'Lucas', 'Megan', 'Zekry', 'Sara', 'Mousa', 'Blair']"
      ]
     },
     "execution_count": 226,
     "metadata": {},
     "output_type": "execute_result"
    }
   ],
   "source": [
    "[person['name'] for person in classroom if person['role'] == 'student']"
   ]
  },
  {
   "cell_type": "code",
   "execution_count": null,
   "metadata": {},
   "outputs": [],
   "source": [
    "classroom"
   ]
  },
  {
   "cell_type": "code",
   "execution_count": null,
   "metadata": {},
   "outputs": [],
   "source": [
    "[person['name'] for person in classroom if person['role'] == 'student']"
   ]
  },
  {
   "cell_type": "code",
   "execution_count": null,
   "metadata": {},
   "outputs": [],
   "source": [
    "[person['name'] for person in classroom if person['role'] == 'student']"
   ]
  },
  {
   "cell_type": "markdown",
   "metadata": {},
   "source": [
    "# Mapping Dictionaries\n",
    "---\n",
    "\n",
    "Mapping is not exclusive to lists. We can also map over dictionaries, but with a subtle difference: we'll wrap our list comprehension in `{}` instead of `[]` to retain the dictionary type.\n",
    "\n",
    "Let's say we have a dictionary of users with their corresponding emails:\n",
    "\n",
    "```python\n",
    "users = {\n",
    "    'user1': 'FOO@BAR.COM',\n",
    "    'user2': 'JOHN@DOE.COM',\n",
    "    'user3': 'YOURGRANDMOTHER@AOL.COM'\n",
    "}\n",
    "```\n",
    "\n",
    "As a precaution, we might want to downcase all the email addresses before saving them to a database. In the block below, map through the `users` dictionary and return the same dictionary, but with all the emails downcased."
   ]
  },
  {
   "cell_type": "code",
   "execution_count": 227,
   "metadata": {},
   "outputs": [],
   "source": [
    "users = {\n",
    "    'user1': 'zekry@GMAIL.COM',\n",
    "    'user2': 'sara@YAHOO.COM',\n",
    "    'user3': 'mousa@COGECO.COM',\n",
    "    'user4': 'max@GmAIl.com',\n",
    "    'user5': 'fluffy_bunnies_2003@hotmail.com'\n",
    "}"
   ]
  },
  {
   "cell_type": "code",
   "execution_count": 232,
   "metadata": {},
   "outputs": [
    {
     "data": {
      "text/plain": [
       "['zekry@gmail.com', 'max@gmail.com']"
      ]
     },
     "execution_count": 232,
     "metadata": {},
     "output_type": "execute_result"
    }
   ],
   "source": [
    "[v.lower() for v in users.values() if 'gmail' in v.lower()]"
   ]
  },
  {
   "cell_type": "code",
   "execution_count": 236,
   "metadata": {},
   "outputs": [],
   "source": [
    "emails = []\n",
    "for email in users.values():\n",
    "    if 'gmail' in email.lower():\n",
    "        emails.append(email.lower()) "
   ]
  },
  {
   "cell_type": "code",
   "execution_count": 238,
   "metadata": {},
   "outputs": [],
   "source": [
    "email = 'max@GmAIl.com'"
   ]
  },
  {
   "cell_type": "code",
   "execution_count": 243,
   "metadata": {},
   "outputs": [
    {
     "data": {
      "text/plain": [
       "False"
      ]
     },
     "execution_count": 243,
     "metadata": {},
     "output_type": "execute_result"
    }
   ],
   "source": [
    "'gmail' in 'max@GmAIl.com'"
   ]
  },
  {
   "cell_type": "code",
   "execution_count": 240,
   "metadata": {},
   "outputs": [
    {
     "data": {
      "text/plain": [
       "'max@gmail.com'"
      ]
     },
     "execution_count": 240,
     "metadata": {},
     "output_type": "execute_result"
    }
   ],
   "source": [
    "email.lower()"
   ]
  },
  {
   "cell_type": "code",
   "execution_count": 242,
   "metadata": {},
   "outputs": [
    {
     "data": {
      "text/plain": [
       "True"
      ]
     },
     "execution_count": 242,
     "metadata": {},
     "output_type": "execute_result"
    }
   ],
   "source": [
    "'gmail' in email.lower()"
   ]
  },
  {
   "cell_type": "code",
   "execution_count": null,
   "metadata": {},
   "outputs": [],
   "source": []
  },
  {
   "cell_type": "code",
   "execution_count": null,
   "metadata": {},
   "outputs": [],
   "source": []
  },
  {
   "cell_type": "code",
   "execution_count": null,
   "metadata": {},
   "outputs": [],
   "source": [
    "list(users.items())"
   ]
  },
  {
   "cell_type": "code",
   "execution_count": null,
   "metadata": {},
   "outputs": [],
   "source": [
    "[email.lower() \n",
    "     for email in users.values() \n",
    "     if 'gmail' in email.lower()\n",
    "]"
   ]
  },
  {
   "cell_type": "code",
   "execution_count": null,
   "metadata": {},
   "outputs": [],
   "source": [
    "'max@GMAIL.com'.lower()"
   ]
  },
  {
   "cell_type": "code",
   "execution_count": null,
   "metadata": {},
   "outputs": [],
   "source": [
    "['ian@gmail.com', 'max@gmail.com']"
   ]
  }
 ],
 "metadata": {
  "anaconda-cloud": {},
  "kernelspec": {
   "display_name": "Python 3",
   "language": "python",
   "name": "python3"
  },
  "language_info": {
   "codemirror_mode": {
    "name": "ipython",
    "version": 3
   },
   "file_extension": ".py",
   "mimetype": "text/x-python",
   "name": "python",
   "nbconvert_exporter": "python",
   "pygments_lexer": "ipython3",
   "version": "3.7.3"
  }
 },
 "nbformat": 4,
 "nbformat_minor": 1
}
