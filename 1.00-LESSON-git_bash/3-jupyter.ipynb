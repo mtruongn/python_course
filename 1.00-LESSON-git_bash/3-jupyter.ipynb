{
 "cells": [
  {
   "cell_type": "markdown",
   "metadata": {},
   "source": [
    "## Intro to Jupyter Notebooks"
   ]
  },
  {
   "cell_type": "markdown",
   "metadata": {
    "ExecuteTime": {
     "end_time": "2018-04-23T16:09:14.473082Z",
     "start_time": "2018-04-23T16:09:14.453499Z"
    }
   },
   "source": [
    "There are different types of cells. This is a markdown cell! Markdown is just a text formatting \"language\" that we use to make our notebooks easy to read. The README files in each repo are also markdown files."
   ]
  },
  {
   "cell_type": "code",
   "execution_count": 1,
   "metadata": {
    "ExecuteTime": {
     "end_time": "2018-04-23T19:11:05.548026Z",
     "start_time": "2018-04-23T19:11:05.544016Z"
    }
   },
   "outputs": [],
   "source": [
    "# This is a code cell! In particular, this is a comment."
   ]
  },
  {
   "cell_type": "markdown",
   "metadata": {},
   "source": [
    "To change the type of a cell, use the dropdown menu above. Or, use `Esc` to move into \"command mode,\" where the cell outline is blue rather than green. In command mode, `y` makes the cell a code cell and `m` makes the cell a markdown cell. \n",
    "\n",
    "You can do all sorts of things in command mode. You can select multiple cells with `Shift` and then use `Shift + m` to merge all of those cells."
   ]
  },
  {
   "cell_type": "markdown",
   "metadata": {},
   "source": [
    "I recommend playing around with the buttons at the top of the notebook. Figure out what they all do and, if you like, commit to memory some keyboard shortcuts for them.\n",
    "\n",
    "Above the buttons, you see a series of tabs (File, Edit, View, etc.) The important one to understand is the Kernel tab. In it, you can restart your Python kernel, clear the output, etc. You should be able to \"Restart and Run All\" on your notebook to ensure everything is running as you expect it to you when you run it from top to bottom."
   ]
  },
  {
   "cell_type": "markdown",
   "metadata": {
    "ExecuteTime": {
     "end_time": "2018-04-23T15:32:50.083338Z",
     "start_time": "2018-04-23T15:32:50.075402Z"
    }
   },
   "source": [
    "## Data Types Review"
   ]
  },
  {
   "cell_type": "markdown",
   "metadata": {},
   "source": [
    "### Numbers"
   ]
  },
  {
   "cell_type": "markdown",
   "metadata": {},
   "source": [
    "There are basically only two that you need to worry about (for now!):"
   ]
  },
  {
   "cell_type": "code",
   "execution_count": 2,
   "metadata": {
    "ExecuteTime": {
     "end_time": "2018-04-23T19:11:05.556048Z",
     "start_time": "2018-04-23T19:11:05.552037Z"
    }
   },
   "outputs": [],
   "source": [
    "# Integers"
   ]
  },
  {
   "cell_type": "code",
   "execution_count": 3,
   "metadata": {
    "ExecuteTime": {
     "end_time": "2018-04-23T19:11:05.579109Z",
     "start_time": "2018-04-23T19:11:05.559057Z"
    }
   },
   "outputs": [
    {
     "data": {
      "text/plain": [
       "True"
      ]
     },
     "execution_count": 3,
     "metadata": {},
     "output_type": "execute_result"
    }
   ],
   "source": [
    "type(5) == int"
   ]
  },
  {
   "cell_type": "code",
   "execution_count": 4,
   "metadata": {
    "ExecuteTime": {
     "end_time": "2018-04-23T19:11:05.590139Z",
     "start_time": "2018-04-23T19:11:05.583121Z"
    }
   },
   "outputs": [
    {
     "data": {
      "text/plain": [
       "False"
      ]
     },
     "execution_count": 4,
     "metadata": {},
     "output_type": "execute_result"
    }
   ],
   "source": [
    "# Floats\n",
    "# Check: why are they called 'floats'?\n",
    "\n",
    "type(5 / 3) == int # is not an integer"
   ]
  },
  {
   "cell_type": "code",
   "execution_count": 5,
   "metadata": {
    "ExecuteTime": {
     "end_time": "2018-04-23T19:11:05.609190Z",
     "start_time": "2018-04-23T19:11:05.594148Z"
    }
   },
   "outputs": [
    {
     "data": {
      "text/plain": [
       "float"
      ]
     },
     "execution_count": 5,
     "metadata": {},
     "output_type": "execute_result"
    }
   ],
   "source": [
    "type(5 / 3)"
   ]
  },
  {
   "cell_type": "code",
   "execution_count": 6,
   "metadata": {
    "ExecuteTime": {
     "end_time": "2018-04-23T19:11:05.618214Z",
     "start_time": "2018-04-23T19:11:05.612198Z"
    }
   },
   "outputs": [
    {
     "data": {
      "text/plain": [
       "True"
      ]
     },
     "execution_count": 6,
     "metadata": {},
     "output_type": "execute_result"
    }
   ],
   "source": [
    "type('5') != int # but this is just a string"
   ]
  },
  {
   "cell_type": "markdown",
   "metadata": {
    "ExecuteTime": {
     "end_time": "2018-04-23T15:33:29.655766Z",
     "start_time": "2018-04-23T15:33:29.651035Z"
    }
   },
   "source": [
    "### Sequential Data Types"
   ]
  },
  {
   "cell_type": "markdown",
   "metadata": {},
   "source": [
    "Why are they 'sequential'? Because they have _elements_! This means they can be *indexed* and *sliced*. This also means they can be _iterated upon_. They are _iterables_. We'll discuss iterables in greater depth when we discuss control flow and list comprehensions. Note: not all iterables are sequential types!"
   ]
  },
  {
   "cell_type": "markdown",
   "metadata": {},
   "source": [
    "#### Tuples\n",
    "\n",
    "Tuples are the most 'basic' sequential type. They are **immutable** and **ordered**, and there's not too much you can do with them. But they're the 'default' data structure when there is more than one element:"
   ]
  },
  {
   "cell_type": "code",
   "execution_count": 7,
   "metadata": {
    "ExecuteTime": {
     "end_time": "2018-04-23T19:11:05.626235Z",
     "start_time": "2018-04-23T19:11:05.621221Z"
    }
   },
   "outputs": [],
   "source": [
    "x = 1\n",
    "y = 2\n",
    "z = x,y"
   ]
  },
  {
   "cell_type": "markdown",
   "metadata": {},
   "source": [
    "`x,y` is the same as `(x,y)`:"
   ]
  },
  {
   "cell_type": "code",
   "execution_count": 8,
   "metadata": {
    "ExecuteTime": {
     "end_time": "2018-04-23T19:11:05.638269Z",
     "start_time": "2018-04-23T19:11:05.629243Z"
    }
   },
   "outputs": [
    {
     "data": {
      "text/plain": [
       "True"
      ]
     },
     "execution_count": 8,
     "metadata": {},
     "output_type": "execute_result"
    }
   ],
   "source": [
    "z == (x,y) "
   ]
  },
  {
   "cell_type": "markdown",
   "metadata": {},
   "source": [
    "But we typically think of tuples coming to us in parentheses."
   ]
  },
  {
   "cell_type": "markdown",
   "metadata": {},
   "source": [
    "#### Lists\n",
    "\n",
    "Lists are the 'go to' sequential type / data structure / object in native Python. Like tuples, they contain **ordered** heterogenous elements. Unlike tuples, they are **mutable**, which means we can do all sorts of things to change them, like so:"
   ]
  },
  {
   "cell_type": "code",
   "execution_count": 9,
   "metadata": {
    "ExecuteTime": {
     "end_time": "2018-04-23T19:11:05.650299Z",
     "start_time": "2018-04-23T19:11:05.641274Z"
    }
   },
   "outputs": [
    {
     "data": {
      "text/plain": [
       "[1, 2, 3, 4, 3, 4]"
      ]
     },
     "execution_count": 9,
     "metadata": {},
     "output_type": "execute_result"
    }
   ],
   "source": [
    "# Lists come in square brackets:\n",
    "x = [1,2,3,4,3]\n",
    "\n",
    "# Because they are mutable, we can do stuff with them:\n",
    "x.append(4)\n",
    "x"
   ]
  },
  {
   "cell_type": "markdown",
   "metadata": {},
   "source": [
    "Another example of a list method is sort. (A method is just a function that is defined for objects of a certain type. Instead of calling it directly, we call it _on_ an object, like so: `object.method(arguments)`.)"
   ]
  },
  {
   "cell_type": "code",
   "execution_count": 10,
   "metadata": {
    "ExecuteTime": {
     "end_time": "2018-04-23T19:11:05.660326Z",
     "start_time": "2018-04-23T19:11:05.653306Z"
    }
   },
   "outputs": [
    {
     "data": {
      "text/plain": [
       "[4, 4, 3, 3, 2, 1]"
      ]
     },
     "execution_count": 10,
     "metadata": {},
     "output_type": "execute_result"
    }
   ],
   "source": [
    "x.sort(reverse=True) # An inplace operation\n",
    "x"
   ]
  },
  {
   "cell_type": "markdown",
   "metadata": {},
   "source": [
    "#### Sets\n",
    "\n",
    "Sets are inspired by the mathematical notion of a set. They are **mutable** but **unordered** collections of **unique** items. They come in `{}` most of the time. (Note: you can create sets with `{}` _or_ with the `set` function. Likewise, there are `list`, `tuple`, and `dict` functions.)"
   ]
  },
  {
   "cell_type": "code",
   "execution_count": 11,
   "metadata": {
    "ExecuteTime": {
     "end_time": "2018-04-23T19:11:05.671355Z",
     "start_time": "2018-04-23T19:11:05.665339Z"
    }
   },
   "outputs": [
    {
     "data": {
      "text/plain": [
       "{1, 2, 3, 4}"
      ]
     },
     "execution_count": 11,
     "metadata": {},
     "output_type": "execute_result"
    }
   ],
   "source": [
    "y = set(x)\n",
    "y # Notice that duplicates were removed"
   ]
  },
  {
   "cell_type": "code",
   "execution_count": 12,
   "metadata": {
    "ExecuteTime": {
     "end_time": "2018-04-23T19:11:05.678374Z",
     "start_time": "2018-04-23T19:11:05.674363Z"
    }
   },
   "outputs": [],
   "source": [
    "z = {2, 7, 5}"
   ]
  },
  {
   "cell_type": "markdown",
   "metadata": {},
   "source": [
    "The methods that apply to sets come from mathematical set theory and probability:"
   ]
  },
  {
   "cell_type": "code",
   "execution_count": 13,
   "metadata": {
    "ExecuteTime": {
     "end_time": "2018-04-23T19:11:05.689403Z",
     "start_time": "2018-04-23T19:11:05.681382Z"
    }
   },
   "outputs": [
    {
     "data": {
      "text/plain": [
       "{2}"
      ]
     },
     "execution_count": 13,
     "metadata": {},
     "output_type": "execute_result"
    }
   ],
   "source": [
    "y.intersection(z) # The elements of y that are also in z"
   ]
  },
  {
   "cell_type": "markdown",
   "metadata": {},
   "source": [
    "#### Dictionaries\n",
    "\n",
    "The best way to understand dictionaries it to think of how a regular language dictionary works. Instead of looking up elements according to their location in a certain order, you look up elements according to a certain 'key,' which may be any immutable object. \n",
    "\n",
    "Dictionaries are 'semi-ordered' collection of **key, value** pairs. I say 'semi-ordered' because Python recently implemented a kind of order for dictionaries. Nevertheless, Python throws an error if you try and access the 'first' value in a dictionary, because that is not how they are meant to be used!"
   ]
  },
  {
   "cell_type": "code",
   "execution_count": 14,
   "metadata": {
    "ExecuteTime": {
     "end_time": "2018-04-23T19:11:05.697424Z",
     "start_time": "2018-04-23T19:11:05.692412Z"
    }
   },
   "outputs": [],
   "source": [
    "jimmies = {'Jimmy':{'Last Name':'Woehrle'},\n",
    " 'James':{'Last Name':'Linek','GHE Username':'Something'}}"
   ]
  },
  {
   "cell_type": "markdown",
   "metadata": {},
   "source": [
    "`jimmies` is a dictionary where each value for its two keys is itself a dictionary."
   ]
  },
  {
   "cell_type": "markdown",
   "metadata": {
    "ExecuteTime": {
     "end_time": "2018-04-23T15:34:47.291972Z",
     "start_time": "2018-04-23T15:34:47.284184Z"
    }
   },
   "source": [
    "### An important distinction:"
   ]
  },
  {
   "cell_type": "markdown",
   "metadata": {},
   "source": [
    "You've noticed that sequential data types can be _nested_. This means that we need to respect the distinction between the type of an object and the type of the elements that object contains. \n",
    "\n",
    "An example:"
   ]
  },
  {
   "cell_type": "code",
   "execution_count": 15,
   "metadata": {
    "ExecuteTime": {
     "end_time": "2018-04-23T19:11:05.708454Z",
     "start_time": "2018-04-23T19:11:05.701435Z"
    }
   },
   "outputs": [
    {
     "data": {
      "text/plain": [
       "int"
      ]
     },
     "execution_count": 15,
     "metadata": {},
     "output_type": "execute_result"
    }
   ],
   "source": [
    "# What type is x?\n",
    "x = 1\n",
    "type(x)"
   ]
  },
  {
   "cell_type": "code",
   "execution_count": 16,
   "metadata": {
    "ExecuteTime": {
     "end_time": "2018-04-23T19:11:05.719482Z",
     "start_time": "2018-04-23T19:11:05.712464Z"
    }
   },
   "outputs": [
    {
     "data": {
      "text/plain": [
       "list"
      ]
     },
     "execution_count": 16,
     "metadata": {},
     "output_type": "execute_result"
    }
   ],
   "source": [
    "# What type is y?\n",
    "y = [1]\n",
    "type(y)"
   ]
  },
  {
   "cell_type": "markdown",
   "metadata": {},
   "source": [
    "This distinction becomes very important when we begin working with Numpy and Pandas. For example, we might be dealing with a column of numbers. In Pandas terminology, the column's type is a `Series`, but the type (`dtype`) of the elements in that column is `int`."
   ]
  }
 ],
 "metadata": {
  "kernel_info": {
   "name": "python3"
  },
  "kernelspec": {
   "display_name": "Python 3",
   "language": "python",
   "name": "python3"
  },
  "language_info": {
   "codemirror_mode": {
    "name": "ipython",
    "version": 3
   },
   "file_extension": ".py",
   "mimetype": "text/x-python",
   "name": "python",
   "nbconvert_exporter": "python",
   "pygments_lexer": "ipython3",
   "version": "3.7.1"
  },
  "nteract": {
   "version": "0.11.7"
  },
  "toc": {
   "nav_menu": {},
   "number_sections": true,
   "sideBar": true,
   "skip_h1_title": false,
   "title_cell": "Table of Contents",
   "title_sidebar": "Contents",
   "toc_cell": false,
   "toc_position": {},
   "toc_section_display": true,
   "toc_window_display": false
  },
  "varInspector": {
   "cols": {
    "lenName": 16,
    "lenType": 16,
    "lenVar": 40
   },
   "kernels_config": {
    "python": {
     "delete_cmd_postfix": "",
     "delete_cmd_prefix": "del ",
     "library": "var_list.py",
     "varRefreshCmd": "print(var_dic_list())"
    },
    "r": {
     "delete_cmd_postfix": ") ",
     "delete_cmd_prefix": "rm(",
     "library": "var_list.r",
     "varRefreshCmd": "cat(var_dic_list()) "
    }
   },
   "types_to_exclude": [
    "module",
    "function",
    "builtin_function_or_method",
    "instance",
    "_Feature"
   ],
   "window_display": false
  }
 },
 "nbformat": 4,
 "nbformat_minor": 2
}
