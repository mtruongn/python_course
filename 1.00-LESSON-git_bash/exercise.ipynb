{
 "cells": [
  {
   "cell_type": "markdown",
   "metadata": {},
   "source": [
    "# The Lion King (CLI)\n",
    "\n",
    "Let's get some practice with some basic CLI commands. See how far you can get with this exercise before we move on!\n",
    "\n",
    "## Cheatsheet\n",
    "\n",
    "* `pwd` - Print working directory \n",
    "* `ls FILE_PATH` - Lists all files and directories in the working (current) directory \n",
    "* `cd DIRECTORY_NAME` - Change directories\n",
    "* `mv FILE_PATH NEW_FILE_PATH` - Move a file or folder\n",
    "* `mkdir DIRECTORY_NAME` - Create a directory\n",
    "* `touch FILE_NAME` - Create a new file\n",
    "\n",
    "## Exercise\n",
    "\n",
    "For this exercise, create a directory called **thelionking** on your desktop and `cd` into it. Everything below goes inside of it.\n",
    "\n",
    "1. Create a directory called **pridelands** in **thelionking**\n",
    "  1. Change directories into **pridelands**\n",
    "  2. Create files **mufassa.txt**, **scar.txt**, **simba.html**, and **rafiki.js** in the **pridelands** directory\n",
    "2. Create a directory called **elephantgraveyard** in **thelionking**\n",
    "  1. Add a file named **hyenas.txt** to the **elephantgraveyard**\n",
    "  2. Move **simba.html** to the **elephantgraveyard**\n",
    "  3. Move **mufassa.txt** to the **elephantgraveyard**\n",
    "3. Create a directory named **thegorge** in the **thelionking**\n",
    "  1. Move **hyenas.txt** to **thegorge**\n",
    "  2. Move **simba.html** and **scar.txt** to **thegorge**\n",
    "  3. Create a file named **stampede.md**\n",
    "  4. Move **mufassa.txt** to **thegorge**\n",
    "  5. Delete **stampede.md**\n",
    "  6. Delete **mufassa.txt**\n",
    "  7. Move **scar.txt** and **hyenas.txt** to  **pridelands**\n",
    "4. Create a directory named **thejungle** in **thelionking**\n",
    "  1. Copy **simba.html** from **thegorge** to **thejungle**\n",
    "  2. Create files named **timon.txt** and **pumba.css** in **thejungle** directory\n",
    "  3. Rename the **simba.html** copy to **matthewbrodericksimba.txt**\n",
    "  4. Delete **simba.html** from **thegorge**\n",
    "  5. Delete **thegorge**\n",
    "  6. Move **rafiki.js** to **thejungle**\n",
    "  7. Move **matthewbrodericksimba.txt**, **timon.txt**, **pumba.css**, and **rafiki.js** to **pridelands**\n",
    "  8. Delete directory **thejungle**\n",
    "  9. Delete **scar.txt**\n",
    "  10. Add file **circleoflife.txt** to **pridelands**"
   ]
  }
 ],
 "metadata": {
  "kernelspec": {
   "display_name": "Python 3",
   "language": "python",
   "name": "python3"
  },
  "language_info": {
   "codemirror_mode": {
    "name": "ipython",
    "version": 3
   },
   "file_extension": ".py",
   "mimetype": "text/x-python",
   "name": "python",
   "nbconvert_exporter": "python",
   "pygments_lexer": "ipython3",
   "version": "3.6.6"
  }
 },
 "nbformat": 4,
 "nbformat_minor": 2
}
