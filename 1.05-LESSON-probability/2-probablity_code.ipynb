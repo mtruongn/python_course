{
 "cells": [
  {
   "cell_type": "markdown",
   "metadata": {},
   "source": [
    "## Probability Problems\n",
    "\n",
    "We often interpret probability like frequency.\n",
    "- If I run an experiment over and over again and one outcome (call it $O$) occurs frequently, we might say that $P(O)$ is quite high.\n",
    "- If I run an experiment over and over again and one outcome $O$ occurs infrequently, we might say that the probability of $O$ is low.\n",
    "\n",
    "We can make this idea a bit more formal by assuming we can repeat an experiment a theoretically infinite number of times. Written out mathematically, this is:\n",
    "\n",
    "$$\n",
    "P(A) = \\lim_{n \\rightarrow \\infty} \\frac{\\text{number of times A occurs}}{n}\n",
    "$$\n",
    "\n",
    "If you're not familiar with limits, that's okay! \n",
    "- The idea is that while we can't actually run the experiment an infinite number of times, if we ran the experiment 1,000 times, then 1,000,000 times, then 1,000,000,000 times, as we get closer to an infinite number of experiments, can we get an understanding of what $P(A)$ is?\n",
    "- Limits are fundamentally important to *how* lots of machine learning and statistics work, but we're almost always able to do our work without getting into the weeds.\n",
    "\n",
    "In many cases, we can find probabilities exactly by hand... but that quickly gets complicated. Instead, let's *estimate* $P(A)$ by leveraging Python to run some large number of experiments and seeing how frequently $A$ occurs.\n",
    "\n",
    "For example, if I am rolling one die and my event $A$ is rolling a 6, I want to use Python to \"roll my die\" many times and count how frequently I roll a 6 compared to how many times I rolled my die.\n",
    "\n",
    "Mathematically, we are estimating the probability of $A$ as:\n",
    "\n",
    "$$\n",
    "P(A) \\approx \\frac{\\text{number of times A occurs}}{n}\n",
    "$$\n",
    "\n",
    "If we \"run our experiment\" for some large number of trials $n$, then our estimated probability should be pretty close to the true probability!"
   ]
  },
  {
   "cell_type": "code",
   "execution_count": 1,
   "metadata": {},
   "outputs": [],
   "source": [
    "import numpy as np"
   ]
  },
  {
   "cell_type": "markdown",
   "metadata": {},
   "source": [
    "### Problem 1: Suppose I roll one die. What is the probability of rolling an odd number?"
   ]
  },
  {
   "cell_type": "markdown",
   "metadata": {},
   "source": [
    "In this case, I want to estimate $P(A)$, where $A$ is rolling an odd number."
   ]
  },
  {
   "cell_type": "code",
   "execution_count": 2,
   "metadata": {},
   "outputs": [
    {
     "data": {
      "text/plain": [
       "1"
      ]
     },
     "execution_count": 2,
     "metadata": {},
     "output_type": "execute_result"
    }
   ],
   "source": [
    "np.random.randint(1,7) # randomly generate one integer between 1 and 6"
   ]
  },
  {
   "cell_type": "code",
   "execution_count": 3,
   "metadata": {},
   "outputs": [],
   "source": [
    "np.random.seed(42) # set a seed so we can reproduce our results!"
   ]
  },
  {
   "cell_type": "code",
   "execution_count": 4,
   "metadata": {},
   "outputs": [
    {
     "data": {
      "text/plain": [
       "4"
      ]
     },
     "execution_count": 4,
     "metadata": {},
     "output_type": "execute_result"
    }
   ],
   "source": [
    "np.random.randint(1,7) # randomly generate one integer between 1 and 6"
   ]
  },
  {
   "cell_type": "code",
   "execution_count": 5,
   "metadata": {},
   "outputs": [
    {
     "name": "stdout",
     "output_type": "stream",
     "text": [
      "0.498\n"
     ]
    }
   ],
   "source": [
    "lst = []                                # where we'll store our answers\n",
    "for i in range(10000):                  # let's run our experiment (roll one die) 10,000 times\n",
    "    if np.random.randint(1,7) % 2 != 0: # if our dice value is not divisible by 2 (is odd)\n",
    "        lst.append(\"odd\")               # then append \"odd\" to our list\n",
    "\n",
    "print(len(lst)/10000)                   # print the number of times A occurs divided by n"
   ]
  },
  {
   "cell_type": "code",
   "execution_count": 6,
   "metadata": {},
   "outputs": [
    {
     "name": "stdout",
     "output_type": "stream",
     "text": [
      "0.4981\n"
     ]
    }
   ],
   "source": [
    "count = 0                                # where we'll store our count\n",
    "for i in range(10000):                   # let's run our experiment (roll one die) 10,000 times\n",
    "    if np.random.randint(1,7) % 2 != 0:  # if our dice value is not divisible by 2 (is odd)\n",
    "        count += 1                       # then add 1 to our count\n",
    "\n",
    "print(count / 10000)                     # print the number of times A occurs divided by n"
   ]
  },
  {
   "cell_type": "code",
   "execution_count": 7,
   "metadata": {},
   "outputs": [],
   "source": [
    "def odd_roll(n):                            # define a function with one argument, n \n",
    "    count = 0                               # where we'll store our count\n",
    "    for i in range(n):                      # let's run our experiment n times\n",
    "        if np.random.randint(1,7) % 2 != 0: # if our dice value is not divisible by 2 (is odd)\n",
    "            count += 1                      # then add 1 to our count\n",
    "    return count / n                        # return the number of times A occurs divided by n"
   ]
  },
  {
   "cell_type": "code",
   "execution_count": 8,
   "metadata": {},
   "outputs": [
    {
     "data": {
      "text/plain": [
       "0.4966"
      ]
     },
     "execution_count": 8,
     "metadata": {},
     "output_type": "execute_result"
    }
   ],
   "source": [
    "odd_roll(10000) # run our experiment 10,000 times"
   ]
  },
  {
   "cell_type": "code",
   "execution_count": 9,
   "metadata": {},
   "outputs": [
    {
     "data": {
      "text/plain": [
       "0.49937"
      ]
     },
     "execution_count": 9,
     "metadata": {},
     "output_type": "execute_result"
    }
   ],
   "source": [
    "odd_roll(100000) # run our experiment 100,000 times"
   ]
  },
  {
   "cell_type": "code",
   "execution_count": 10,
   "metadata": {},
   "outputs": [
    {
     "data": {
      "text/plain": [
       "0.500756"
      ]
     },
     "execution_count": 10,
     "metadata": {},
     "output_type": "execute_result"
    }
   ],
   "source": [
    "odd_roll(1000000) # run our experiment 1,000,000 times"
   ]
  },
  {
   "cell_type": "markdown",
   "metadata": {},
   "source": [
    "### Problem 2: Suppose I roll two dice. What is the probability that their sum is an odd number?"
   ]
  },
  {
   "cell_type": "code",
   "execution_count": 11,
   "metadata": {},
   "outputs": [],
   "source": [
    "def odd_two_rolls(n):                      # define a function with one argument, n \n",
    "    count = 0                              # where we'll store our count\n",
    "    for i in range(n):                     # let's run our experiment n times\n",
    "        if (np.random.randint(1,7) + np.random.randint(1,7)) % 2 != 0: # if our sum is odd\n",
    "            count += 1                     # then add 1 to our count\n",
    "    return count / n                       # return the number of times A occurs divided by n"
   ]
  },
  {
   "cell_type": "code",
   "execution_count": 12,
   "metadata": {},
   "outputs": [
    {
     "data": {
      "text/plain": [
       "0.485"
      ]
     },
     "execution_count": 12,
     "metadata": {},
     "output_type": "execute_result"
    }
   ],
   "source": [
    "odd_two_rolls(1000) # run our experiment 1,000 times"
   ]
  },
  {
   "cell_type": "code",
   "execution_count": 13,
   "metadata": {},
   "outputs": [
    {
     "data": {
      "text/plain": [
       "0.4992"
      ]
     },
     "execution_count": 13,
     "metadata": {},
     "output_type": "execute_result"
    }
   ],
   "source": [
    "odd_two_rolls(10000) # run our experiment 10,000 times"
   ]
  },
  {
   "cell_type": "code",
   "execution_count": 14,
   "metadata": {},
   "outputs": [
    {
     "data": {
      "text/plain": [
       "0.49905"
      ]
     },
     "execution_count": 14,
     "metadata": {},
     "output_type": "execute_result"
    }
   ],
   "source": [
    "odd_two_rolls(100000) # run our experiment 100,000 times"
   ]
  },
  {
   "cell_type": "markdown",
   "metadata": {},
   "source": [
    "### Problem 3: Suppose I flip three coins. What is the probability that I flip all heads or all tails?"
   ]
  },
  {
   "cell_type": "code",
   "execution_count": 15,
   "metadata": {},
   "outputs": [
    {
     "data": {
      "text/plain": [
       "0"
      ]
     },
     "execution_count": 15,
     "metadata": {},
     "output_type": "execute_result"
    }
   ],
   "source": [
    "np.random.randint(0,2) # randomly generate one integer between 0 and 1"
   ]
  },
  {
   "cell_type": "code",
   "execution_count": 16,
   "metadata": {},
   "outputs": [],
   "source": [
    "def flip_same_three(n):         # define a function with one argument, n \n",
    "    successes = 0               # instantiate number of \"successes\" (all H or all T) at 0\n",
    "    for i in range(n):          # run our experiment n times\n",
    "        heads_tails_count = np.random.randint(0,2) + np.random.randint(0,2) + np.random.randint(0,2) # flip three coins\n",
    "        if heads_tails_count == 0 or heads_tails_count == 3: # if we flipped all heads or all tails\n",
    "            successes += 1      # then add one to successes\n",
    "    return successes / n        # return the number of times A occurs divided by n"
   ]
  },
  {
   "cell_type": "code",
   "execution_count": 17,
   "metadata": {},
   "outputs": [
    {
     "data": {
      "text/plain": [
       "0.251"
      ]
     },
     "execution_count": 17,
     "metadata": {},
     "output_type": "execute_result"
    }
   ],
   "source": [
    "flip_same_three(1000) # run our experiment 1,000 times"
   ]
  },
  {
   "cell_type": "markdown",
   "metadata": {},
   "source": [
    "### Problem 4: Suppose I flip one coin. If I flip heads, I roll one die. If I flip tails, I roll two dice and sum their values. What is the probability that my roll values sum to greater than 8?"
   ]
  },
  {
   "cell_type": "code",
   "execution_count": 18,
   "metadata": {},
   "outputs": [],
   "source": [
    "def greater_than_eight(n):                       # define a function with one argument, n\n",
    "    above_eight = 0                              # instantiate number of successes at 0\n",
    "    for i in range(n):                           # run our experiment n times\n",
    "        coin_flip = np.random.randint(0,2)       # flip a coin\n",
    "        if coin_flip == 1:                       # if our coin flip is heads,\n",
    "            dice = np.random.randint(1,7)        # then roll one die\n",
    "        else:                                    # otherwise (if our coin flip is tails),\n",
    "            dice = np.random.randint(1,7) + np.random.randint(1,7) # then roll two die and sum them\n",
    "        if dice > 8:                             # if our value is greater than 8 (event A occurs)\n",
    "            above_eight += 1                     # add one to our number of successes\n",
    "    return above_eight / n                       # divide number of times A occurs by n"
   ]
  },
  {
   "cell_type": "code",
   "execution_count": 19,
   "metadata": {},
   "outputs": [
    {
     "data": {
      "text/plain": [
       "0.1307"
      ]
     },
     "execution_count": 19,
     "metadata": {},
     "output_type": "execute_result"
    }
   ],
   "source": [
    "greater_than_eight(10000) # run our experiment 10,000 times"
   ]
  },
  {
   "cell_type": "code",
   "execution_count": 20,
   "metadata": {},
   "outputs": [],
   "source": [
    "results = [] # our probability fluctuates every time we run a set of 10,000 experiments\n",
    "for j in range(100): # run 100 sets of the 10,000 experiments\n",
    "    results.append(greater_than_eight(10000)) # get a list of 100 estimated probabilities"
   ]
  },
  {
   "cell_type": "code",
   "execution_count": 21,
   "metadata": {},
   "outputs": [
    {
     "data": {
      "text/plain": [
       "0.13849600000000004"
      ]
     },
     "execution_count": 21,
     "metadata": {},
     "output_type": "execute_result"
    }
   ],
   "source": [
    "import numpy as np\n",
    "np.mean(results) # take the average probability of our 100 different sets of 10,000 experiments"
   ]
  },
  {
   "cell_type": "markdown",
   "metadata": {},
   "source": [
    "Note: If you get a bunch of trailing zeroes in the above answer, this is an issue of [floating point arithmetic](https://en.wikipedia.org/wiki/Floating-point_arithmetic)."
   ]
  },
  {
   "cell_type": "markdown",
   "metadata": {},
   "source": [
    "### Problem 5: I flip my coin until I flip heads. I count up the number of coins I flipped and roll that many dice. What is the probability that the average roll will be between 3 and 4 (inclusive)?\n",
    "- Example 1: If I flip heads on my first coin flip, I roll one die and stop.\n",
    "- Example 2: If I flip tails on my first coin flip and heads on my second, I will roll two dice and average their values.\n",
    "- Example 3: If I flip tails on my first two coin flips and heads on my third, I will roll three dice and average their values."
   ]
  },
  {
   "cell_type": "code",
   "execution_count": 22,
   "metadata": {},
   "outputs": [],
   "source": [
    "def between_three_and_four(n):              # define our function with one argument, n\n",
    "    successes = 0                           # instantiate number of successes to be 0\n",
    "    for i in range(n):                      # run our experiment n times\n",
    "        rolls = 1                           # I know that I'll roll at least once!\n",
    "        \n",
    "        while np.random.randint(0,2) == 0:     # keep flipping coins until I flip heads\n",
    "            rolls += 1                      # every time I flip tails, add 1 to rolls\n",
    "            \n",
    "        values = 0                          # instantiate values\n",
    "        for j in range(rolls):              # I need to roll my dice \"rolls\" times\n",
    "            values += np.random.randint(1,7)   # roll j dice and add result to values\n",
    "        if (values / rolls) >= 3 and (values / rolls) <= 4: # if average is between 3 and 4\n",
    "            successes += 1                  # add one to successes\n",
    "    return successes / n                    # divide number of successes by n"
   ]
  },
  {
   "cell_type": "code",
   "execution_count": 23,
   "metadata": {},
   "outputs": [
    {
     "data": {
      "text/plain": [
       "0.413"
      ]
     },
     "execution_count": 23,
     "metadata": {},
     "output_type": "execute_result"
    }
   ],
   "source": [
    "between_three_and_four(1000) # run experiment 1,000 times"
   ]
  },
  {
   "cell_type": "markdown",
   "metadata": {},
   "source": [
    "---\n",
    "\n",
    "## Extra Practice Problems (not required!)"
   ]
  },
  {
   "cell_type": "markdown",
   "metadata": {},
   "source": [
    "### Problem 6: Repeat problem 5, but find the probability that the average roll will be between 3 and 4, *exclusive*. (That is, we are not including values of 3 or 4 as \"successes,\" but only the numbers in between them.) \n",
    "- Before running this in code, do you think this will have a large impact on the outcome? Why or why not?"
   ]
  },
  {
   "cell_type": "markdown",
   "metadata": {},
   "source": [
    "**Answer**: I **do** think this will have a large impact on the outcome. If we flip only one coin, then we roll only one die. There is a one in three chance that we get a 3 or 4 in one roll of the die. By excluding the values of 3 and 4, I think we'll see $P(A)$ get much smaller."
   ]
  },
  {
   "cell_type": "code",
   "execution_count": 24,
   "metadata": {},
   "outputs": [],
   "source": [
    "def between_three_and_four_exclusive(n):    # define our function with one argument, n\n",
    "    successes = 0                           # instantiate number of successes to be 0\n",
    "    for i in range(n):                      # run our experiment n times\n",
    "        rolls = 1                           # I know that I'll roll at least once!\n",
    "        \n",
    "        while np.random.randint(0,2) == 0:  # keep flipping coins until I flip heads\n",
    "            rolls += 1                      # every time I flip tails, add 1 to rolls\n",
    "            \n",
    "        values = 0                          # instantiate values\n",
    "        for j in range(rolls):              # I need to roll my dice \"rolls\" times\n",
    "            values += np.random.randint(1,7)   # roll j dice and add result to values\n",
    "        if (values / rolls) > 3 and (values / rolls) < 4: # if average is between 3 and 4 EXCLUSIVE\n",
    "            successes += 1                  # add one to successes\n",
    "    return successes / n                    # divide number of successes by n"
   ]
  },
  {
   "cell_type": "code",
   "execution_count": 25,
   "metadata": {},
   "outputs": [
    {
     "data": {
      "text/plain": [
       "0.13"
      ]
     },
     "execution_count": 25,
     "metadata": {},
     "output_type": "execute_result"
    }
   ],
   "source": [
    "between_three_and_four_exclusive(1000) # run experiment 1,000 times"
   ]
  },
  {
   "cell_type": "markdown",
   "metadata": {},
   "source": [
    "### Problem 7: Repeat problem 4, but make the probability of flipping heads 20%.\n",
    "- Hint: You could use `np.random.randint(1,11)` and using values of 1 and 2 as \"heads\" and values of 3 through 10 as \"tails.\" Alternatively, you could use [`np.random.choice`](https://docs.scipy.org/doc/numpy-1.15.0/reference/generated/numpy.random.choice.html)."
   ]
  },
  {
   "cell_type": "markdown",
   "metadata": {},
   "source": [
    "Suppose I flip one coin. If I flip heads, I roll one die. If I flip tails, I roll two dice and sum their values. What is the probability that my roll values sum to greater than 8? **Note** that I'm using an unfair coin with probability of heads equal to 20%. I will use `np.random.randint(1,11)` to simulate an unfair coin. Values of 1 and 2 will correspond to \"heads\" and values of 3 or greater will correspond to \"tails.\""
   ]
  },
  {
   "cell_type": "code",
   "execution_count": 26,
   "metadata": {},
   "outputs": [],
   "source": [
    "def greater_than_eight_unfair(n):                # define a function with one argument, n\n",
    "    above_eight = 0                              # instantiate number of successes at 0\n",
    "    for i in range(n):                           # run our experiment n times\n",
    "        coin_flip = np.random.randint(1,11)      # flip a coin\n",
    "        if coin_flip <= 2:                       # if our coin flip is heads,\n",
    "            dice = np.random.randint(1,7)        # then roll one die\n",
    "        else:                                    # otherwise (if our coin flip is tails),\n",
    "            dice = np.random.randint(1,7) + np.random.randint(1,7) # then roll two die and sum them\n",
    "        if dice > 8:                             # if our value is greater than 8 (event A occurs)\n",
    "            above_eight += 1                     # add one to our number of successes\n",
    "    return above_eight / n                       # divide number of times A occurs by n"
   ]
  },
  {
   "cell_type": "code",
   "execution_count": 27,
   "metadata": {},
   "outputs": [
    {
     "data": {
      "text/plain": [
       "0.2168"
      ]
     },
     "execution_count": 27,
     "metadata": {},
     "output_type": "execute_result"
    }
   ],
   "source": [
    "greater_than_eight_unfair(10000) # run 10000 times"
   ]
  },
  {
   "cell_type": "markdown",
   "metadata": {},
   "source": [
    "### Problem 8: Repeat problem 7, but build your function out to accept *any* valid probability of flipping heads. (i.e. a user can input 1%, 10%, 35%, 99%, and so on)."
   ]
  },
  {
   "cell_type": "markdown",
   "metadata": {},
   "source": [
    "It will be pretty complicated for me to use `np.random.randint()` for lots of different probabilities of flipping heads. Instead, I will use `np.random.choice`. You should check out the documentation for it [here](https://docs.scipy.org/doc/numpy-1.15.0/reference/generated/numpy.random.choice.html)."
   ]
  },
  {
   "cell_type": "code",
   "execution_count": 28,
   "metadata": {},
   "outputs": [],
   "source": [
    "def greater_than_eight_user_defined(n, p_heads):       # define a function\n",
    "    # Note that this function has two arguments: n and p_heads.\n",
    "    # n = number of experiments to simulate.\n",
    "    # p_heads = probability of flipping heads.\n",
    "    \n",
    "    # We want p_heads to be between 0 and 1.\n",
    "    if p_heads < 0 or p_heads > 1:\n",
    "        return \"Error. p_heads should be between 0 and 1.\"\n",
    "    \n",
    "    above_eight = 0                              # instantiate number of successes at 0\n",
    "    \n",
    "    for i in range(n):                           # run our experiment n times\n",
    "        coin_flip = np.random.choice(['heads','tails'],\n",
    "                                     p = [p_heads, 1 - p_heads])\n",
    "        \n",
    "        # The above line of code allows us to select heads or tails.\n",
    "        # It will select heads with probability p_heads.\n",
    "        # It will select tails with probability 1 - p_heads.\n",
    "        \n",
    "        if coin_flip == 'heads':                 # if our coin flip is heads,\n",
    "            dice = np.random.randint(1,7)        # then roll one die\n",
    "        else:                                    # otherwise (if our coin flip is tails),\n",
    "            dice = np.random.randint(1,7) + np.random.randint(1,7) # then roll two die and sum them\n",
    "        if dice > 8:                             # if our value is greater than 8 (event A occurs)\n",
    "            above_eight += 1                     # add one to our number of successes\n",
    "    return above_eight / n                       # divide number of times A occurs by n"
   ]
  },
  {
   "cell_type": "code",
   "execution_count": 29,
   "metadata": {},
   "outputs": [
    {
     "data": {
      "text/plain": [
       "0.2822"
      ]
     },
     "execution_count": 29,
     "metadata": {},
     "output_type": "execute_result"
    }
   ],
   "source": [
    "greater_than_eight_user_defined(10000, 0)"
   ]
  },
  {
   "cell_type": "code",
   "execution_count": 30,
   "metadata": {},
   "outputs": [
    {
     "data": {
      "text/plain": [
       "0.2823"
      ]
     },
     "execution_count": 30,
     "metadata": {},
     "output_type": "execute_result"
    }
   ],
   "source": [
    "greater_than_eight_user_defined(10000, 0.01)"
   ]
  },
  {
   "cell_type": "code",
   "execution_count": 31,
   "metadata": {},
   "outputs": [
    {
     "data": {
      "text/plain": [
       "0.2474"
      ]
     },
     "execution_count": 31,
     "metadata": {},
     "output_type": "execute_result"
    }
   ],
   "source": [
    "greater_than_eight_user_defined(10000, 0.1)"
   ]
  },
  {
   "cell_type": "code",
   "execution_count": 32,
   "metadata": {},
   "outputs": [
    {
     "data": {
      "text/plain": [
       "0.1366"
      ]
     },
     "execution_count": 32,
     "metadata": {},
     "output_type": "execute_result"
    }
   ],
   "source": [
    "greater_than_eight_user_defined(10000, 0.5)"
   ]
  },
  {
   "cell_type": "code",
   "execution_count": 33,
   "metadata": {},
   "outputs": [
    {
     "data": {
      "text/plain": [
       "0.0299"
      ]
     },
     "execution_count": 33,
     "metadata": {},
     "output_type": "execute_result"
    }
   ],
   "source": [
    "greater_than_eight_user_defined(10000, 0.9)"
   ]
  },
  {
   "cell_type": "code",
   "execution_count": 34,
   "metadata": {},
   "outputs": [
    {
     "data": {
      "text/plain": [
       "0.0"
      ]
     },
     "execution_count": 34,
     "metadata": {},
     "output_type": "execute_result"
    }
   ],
   "source": [
    "greater_than_eight_user_defined(10000, 1)"
   ]
  },
  {
   "cell_type": "markdown",
   "metadata": {},
   "source": [
    "**Summary**: It looks as though, as the probability of heads increases, the probability of getting a sum that is greater than eight decreases."
   ]
  },
  {
   "cell_type": "markdown",
   "metadata": {},
   "source": [
    "### Problem 9: Two players are playing a game. Player A goes first and flips a coin. If the coin is heads, player A wins. If the coin is tails, player B then flips a coin. If the coin is heads, player B wins. Otherwise, the coin goes back to player A. They continue flipping until one person has flipped heads. If the coin is fair, what is the probability of player A winning?\n",
    "\n",
    "(This problem is taken from [_Statistical Inference_ by Casella and Berger](https://fsalamri.files.wordpress.com/2015/02/casella_berger_statistical_inference1.pdf).)"
   ]
  },
  {
   "cell_type": "markdown",
   "metadata": {},
   "source": [
    "- Hint: You'll get stuck in an infinite loop if your probability of flipping heads is 0%!"
   ]
  },
  {
   "cell_type": "code",
   "execution_count": 35,
   "metadata": {},
   "outputs": [],
   "source": [
    "# Rather than save player as 'A' and 'B', I'm going to \n",
    "# save player as +1 and -1. +1 corresponds to player A\n",
    "# and -1 corresponds to player B.\n",
    "\n",
    "# It is a bit more complicated to write things out as\n",
    "# A or B, because you need to reset player every time\n",
    "# the coin_flip returns tails. For example, I would\n",
    "# write something like:\n",
    "# if coin_flip == 'tails':\n",
    "#     if player == 'A':\n",
    "#         player = 'B'\n",
    "#     else:\n",
    "#         player = 'A'\n",
    "\n",
    "# By saving player as 1 and -1, every time coin_flip\n",
    "# returns tails, I can just multiply coin_flip by -1.\n",
    "# if coin_flip == 'tails':\n",
    "#     player *= -1\n",
    "\n",
    "# It's much simpler to use -1 instead of 'A' and 'B'!\n",
    "# This will always ensure my player variable is correct.\n",
    "\n",
    "\n",
    "def coin_game(n):\n",
    "    a_count = 0        # instantiate count of A wins\n",
    "    for i in range(n): # simulate n games\n",
    "        player = 1     # start with player A\n",
    "        while True:    # will continue until we break\n",
    "            # simulate one coin flip\n",
    "            coin_flip = np.random.choice(['heads','tails'],\n",
    "                                         p = [0.5, 0.5])\n",
    "            \n",
    "            if coin_flip == 'heads': # if coin_flip is heads\n",
    "                if player == 1:     # and if it's player A\n",
    "                    a_count += 1    # add one to A wins count\n",
    "                \n",
    "                # since coin_flip was heads, this game is over.\n",
    "                # break out of the while loop and start a new game!\n",
    "                break               \n",
    "                \n",
    "            else:                   # if coin_flip was tails, then:\n",
    "                player *= -1        # same as player = player * -1\n",
    "                                    # then we return to the top of\n",
    "                                    # the while loop!\n",
    "    return (a_count / n)"
   ]
  },
  {
   "cell_type": "code",
   "execution_count": 36,
   "metadata": {},
   "outputs": [
    {
     "data": {
      "text/plain": [
       "0.6734"
      ]
     },
     "execution_count": 36,
     "metadata": {},
     "output_type": "execute_result"
    }
   ],
   "source": [
    "coin_game(10000)"
   ]
  },
  {
   "cell_type": "markdown",
   "metadata": {},
   "source": [
    "### Problem 10: Repeat problem 9, but adapt your function to accept another argument, $p$, where $p$ is the probability of flipping heads.\n",
    "\n",
    "(This problem is adapted from [_Statistical Inference_ by Casella and Berger](https://fsalamri.files.wordpress.com/2015/02/casella_berger_statistical_inference1.pdf).)"
   ]
  },
  {
   "cell_type": "code",
   "execution_count": 37,
   "metadata": {},
   "outputs": [],
   "source": [
    "def coin_game_unfair(n, p_heads):\n",
    "    a_count = 0        # instantiate count of A wins\n",
    "    for i in range(n): # simulate n games\n",
    "        player = 1     # start with player A\n",
    "        while True:    # will continue until we break\n",
    "            # simulate one coin flip\n",
    "            coin_flip = np.random.choice(['heads','tails'],\n",
    "                                         p = [p_heads, 1 - p_heads])\n",
    "            \n",
    "            if coin_flip == 'heads': # if coin_flip is heads\n",
    "                if player == 1:     # and if it's player A\n",
    "                    a_count += 1    # add one to A wins count\n",
    "                \n",
    "                # since coin_flip was heads, this game is over.\n",
    "                # break out of the while loop and start a new game!\n",
    "                break               \n",
    "                \n",
    "            else:                   # if coin_flip was tails, then:\n",
    "                player *= -1        # same as player = player * -1\n",
    "                                    # then we return to the top of\n",
    "                                    # the while loop!\n",
    "    return (a_count / n)"
   ]
  },
  {
   "cell_type": "code",
   "execution_count": 38,
   "metadata": {},
   "outputs": [
    {
     "data": {
      "text/plain": [
       "0.5047"
      ]
     },
     "execution_count": 38,
     "metadata": {},
     "output_type": "execute_result"
    }
   ],
   "source": [
    "coin_game_unfair(10000, 0.01)"
   ]
  },
  {
   "cell_type": "code",
   "execution_count": 39,
   "metadata": {},
   "outputs": [
    {
     "data": {
      "text/plain": [
       "0.5112"
      ]
     },
     "execution_count": 39,
     "metadata": {},
     "output_type": "execute_result"
    }
   ],
   "source": [
    "coin_game_unfair(10000, 0.05)"
   ]
  },
  {
   "cell_type": "code",
   "execution_count": 40,
   "metadata": {},
   "outputs": [
    {
     "data": {
      "text/plain": [
       "0.5261"
      ]
     },
     "execution_count": 40,
     "metadata": {},
     "output_type": "execute_result"
    }
   ],
   "source": [
    "coin_game_unfair(10000, 0.1)"
   ]
  },
  {
   "cell_type": "code",
   "execution_count": 41,
   "metadata": {},
   "outputs": [
    {
     "data": {
      "text/plain": [
       "0.6764"
      ]
     },
     "execution_count": 41,
     "metadata": {},
     "output_type": "execute_result"
    }
   ],
   "source": [
    "coin_game_unfair(10000, 0.5)"
   ]
  },
  {
   "cell_type": "code",
   "execution_count": 42,
   "metadata": {},
   "outputs": [
    {
     "data": {
      "text/plain": [
       "0.9115"
      ]
     },
     "execution_count": 42,
     "metadata": {},
     "output_type": "execute_result"
    }
   ],
   "source": [
    "coin_game_unfair(10000, 0.9)"
   ]
  },
  {
   "cell_type": "code",
   "execution_count": 43,
   "metadata": {},
   "outputs": [
    {
     "data": {
      "text/plain": [
       "0.9897"
      ]
     },
     "execution_count": 43,
     "metadata": {},
     "output_type": "execute_result"
    }
   ],
   "source": [
    "coin_game_unfair(10000, 0.99)"
   ]
  },
  {
   "cell_type": "markdown",
   "metadata": {},
   "source": [
    "### Interview Problem *(basic)*: There are 24 balls in a bucket: 12 red and 12 black. If you draw one ball, then a second ball, what is the probability of drawing two balls of the same color?"
   ]
  },
  {
   "cell_type": "code",
   "execution_count": 44,
   "metadata": {},
   "outputs": [],
   "source": [
    "def same_color(n):\n",
    "    \n",
    "    # Set up counter to see how many successes we get.\n",
    "    count = 0\n",
    "    \n",
    "    # Set up bucket of 12 red balls and 12 black balls.\n",
    "    bucket = ['R', 'R', 'R', 'R', 'R', 'R', 'R', 'R', 'R', 'R', 'R', 'R', 'B', 'B', 'B', 'B', 'B', 'B', 'B', 'B', 'B', 'B', 'B', 'B']\n",
    "    \n",
    "    # Run experiment n times.\n",
    "    for i in range(n):\n",
    "        # Pull two balls from bucket.\n",
    "        choice = np.random.choice(bucket, size = 2, replace = False)\n",
    "        \n",
    "        # Check to see if the two chosen balls are the same.\n",
    "        if choice[0] == choice[1]:\n",
    "            count += 1\n",
    "    \n",
    "    # Calculate probability.\n",
    "    return (count / n)"
   ]
  },
  {
   "cell_type": "code",
   "execution_count": 45,
   "metadata": {},
   "outputs": [
    {
     "data": {
      "text/plain": [
       "0.4803"
      ]
     },
     "execution_count": 45,
     "metadata": {},
     "output_type": "execute_result"
    }
   ],
   "source": [
    "same_color(10000)"
   ]
  },
  {
   "cell_type": "markdown",
   "metadata": {},
   "source": [
    "### Interview Problem *(advanced)*: Suppose I have a stick of length 1. I randomly break this stick in two places. What is the probability that the three pieces can form a triangle? (Note that a triangle can be formed if and only if the length of each side is smaller than the sum of the other two sides.)\n",
    "- Hint: You may want to use [`np.random.uniform`](https://docs.scipy.org/doc/numpy/reference/generated/numpy.random.uniform.html) to pick a random place to break your stick."
   ]
  },
  {
   "cell_type": "code",
   "execution_count": 46,
   "metadata": {},
   "outputs": [],
   "source": [
    "# Defining a function with n simulations, estimating the probability of forming a triangle.\n",
    "\n",
    "def triangle_prob(n): \n",
    "    # Set up counter to track how many valid triangles we get.\n",
    "    count = 0 \n",
    "    \n",
    "    for i in range(n):\n",
    "        # Randomly cut our stick in one place.\n",
    "        break_1 = np.random.uniform(0,1) \n",
    "        \n",
    "        # Randomly cut our stick in another place.\n",
    "        break_2 = np.random.uniform(0,1) \n",
    "        \n",
    "        # Make sure left_break is the one closer to 0.\n",
    "        left_break = min(break_1, break_2) \n",
    "        \n",
    "        # Make sure right_break is the one closer to 1.\n",
    "        right_break = max(break_1, break_2) \n",
    "        \n",
    "        # At this point, we have our \"stick\" from 0 to 1. It's broken in two places.\n",
    "        # left_break is the break closer to 0 and right_break is the break closer to 1.\n",
    "        # Now we want to see if the length of any side is greater than 0.5.\n",
    "        # If any side length is greater than 0.5, then the sum of the other two sides\n",
    "        # must be less than 0.5, so we cannot form a valid triangle!\n",
    "        \n",
    "        if (1 - right_break) < 0.5 and (right_break - left_break) < 0.5 and (left_break - 0) < 0.5:\n",
    "            # All sides are less than 0.5, so the triangle must be valid.\n",
    "            count += 1 \n",
    "            \n",
    "    # Return percentage of the time a valid triangle is formed.\n",
    "    return count / n"
   ]
  },
  {
   "cell_type": "code",
   "execution_count": 47,
   "metadata": {},
   "outputs": [
    {
     "data": {
      "text/plain": [
       "0.24992"
      ]
     },
     "execution_count": 47,
     "metadata": {},
     "output_type": "execute_result"
    }
   ],
   "source": [
    "triangle_prob(100000)"
   ]
  }
 ],
 "metadata": {
  "kernelspec": {
   "display_name": "Python 3",
   "language": "python",
   "name": "python3"
  },
  "language_info": {
   "codemirror_mode": {
    "name": "ipython",
    "version": 3
   },
   "file_extension": ".py",
   "mimetype": "text/x-python",
   "name": "python",
   "nbconvert_exporter": "python",
   "pygments_lexer": "ipython3",
   "version": "3.7.3"
  }
 },
 "nbformat": 4,
 "nbformat_minor": 2
}
